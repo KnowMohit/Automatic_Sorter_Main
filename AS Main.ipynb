{
 "cells": [
  {
   "cell_type": "code",
   "execution_count": null,
   "id": "8132427d-fdff-4ac6-aaf6-2da9d1daa2a9",
   "metadata": {},
   "outputs": [],
   "source": [
    "AS Main"
   ]
  },
  {
   "cell_type": "code",
   "execution_count": 2,
   "id": "4ea5876b-d9eb-4cdd-9ddb-e40106369c53",
   "metadata": {},
   "outputs": [],
   "source": [
    "import os\n",
    "import shutil\n",
    "from pathlib import Path"
   ]
  },
  {
   "cell_type": "code",
   "execution_count": 3,
   "id": "a83da001-1253-4635-920a-86a7c117b392",
   "metadata": {},
   "outputs": [],
   "source": [
    "SOURCE_DIR = Path.home() / \"Desktop\"  # You can change this path\n",
    "DEST_DIR = SOURCE_DIR"
   ]
  },
  {
   "cell_type": "code",
   "execution_count": null,
   "id": "d35d919f-dc95-40f9-ad4e-b031a8a712b2",
   "metadata": {},
   "outputs": [],
   "source": [
    "FILE_TYPES = {\n",
    "    \"Images\": [\".jpg\", \".jpeg\", \".png\", \".gif\", \".bmp\", \".svg\"],\n",
    "    \"Videos\": [\".mp4\", \".mkv\", \".flv\", \".avi\", \".mov\"],\n",
    "    \"Documents\": [\".pdf\", \".docx\", \".doc\", \".txt\", \".pptx\", \".xlsx\"],\n",
    "    \"Music\": [\".mp3\", \".wav\", \".aac\", \".flac\"],\n",
    "    \"Archives\": [\".zip\", \".rar\", \".tar\", \".gz\", \".7z\"],\n",
    "    \"Code\": [\".py\", \".js\", \".html\", \".css\", \".cpp\", \".java\", \".ipynb\"],\n",
    "    \"Executables\": [\".exe\", \".msi\", \".apk\", \".bat\"],\n",
    "    \"Others\": []  # For uncategorized files\n",
    "}"
   ]
  },
  {
   "cell_type": "code",
   "execution_count": 8,
   "id": "c7ad39cd-8193-4008-842b-82b7d9f2bd0a",
   "metadata": {},
   "outputs": [],
   "source": [
    "def get_category(extension):\n",
    "    for category, extensions in FILE_TYPES.items():\n",
    "        if extension.lower() in extensions:\n",
    "            return category\n",
    "    return \"Others\""
   ]
  },
  {
   "cell_type": "code",
   "execution_count": 9,
   "id": "4f515447-d3c2-4069-9c0b-0cfc8b20cab3",
   "metadata": {},
   "outputs": [],
   "source": [
    "def sort_files(source_dir):\n",
    "    for item in os.listdir(source_dir):\n",
    "        item_path = source_dir / item\n",
    "        if item_path.is_file():\n",
    "            extension = item_path.suffix\n",
    "            category = get_category(extension)\n",
    "            target_dir = source_dir / category\n",
    "            target_dir.mkdir(exist_ok=True)\n",
    "            try:\n",
    "                shutil.move(str(item_path), str(target_dir / item))\n",
    "                print(f\"Moved: {item} -> {category}/\")\n",
    "            except Exception as e:\n",
    "                print(f\"Failed to move {item}: {e}\")"
   ]
  },
  {
   "cell_type": "code",
   "execution_count": 10,
   "id": "a09abbf7-bfe8-4c01-b945-d53c5093dc31",
   "metadata": {},
   "outputs": [],
   "source": [
    "sort_files(SOURCE_DIR)"
   ]
  },
  {
   "cell_type": "code",
   "execution_count": null,
   "id": "55130a80-0182-44f8-bdbc-3f9c3a045650",
   "metadata": {},
   "outputs": [],
   "source": []
  },
  {
   "cell_type": "code",
   "execution_count": null,
   "id": "ca3f1b73-d42a-47b3-b8c6-f209172ef4e1",
   "metadata": {},
   "outputs": [],
   "source": []
  }
 ],
 "metadata": {
  "kernelspec": {
   "display_name": "Python [conda env:base] *",
   "language": "python",
   "name": "conda-base-py"
  },
  "language_info": {
   "codemirror_mode": {
    "name": "ipython",
    "version": 3
   },
   "file_extension": ".py",
   "mimetype": "text/x-python",
   "name": "python",
   "nbconvert_exporter": "python",
   "pygments_lexer": "ipython3",
   "version": "3.12.7"
  }
 },
 "nbformat": 4,
 "nbformat_minor": 5
}
